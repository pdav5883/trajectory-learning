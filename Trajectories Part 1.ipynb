{
 "cells": [
  {
   "cell_type": "markdown",
   "id": "ab05a41d",
   "metadata": {},
   "source": [
    "# Trajectories with Python - Part 1: Flat Earth\n",
    "**Part 1 Objectives**\n",
    "- How to navigate a Jupyter notebook\n",
    "- Some Python basics\n",
    "- Import external code\n",
    "- Derive trajectory equations\n",
    "- Convert equations to code\n",
    "- Basic plotting"
   ]
  },
  {
   "cell_type": "markdown",
   "id": "3798d406",
   "metadata": {},
   "source": [
    "# 0. Fundamentals\n",
    "What is this and how do I use it?"
   ]
  },
  {
   "cell_type": "markdown",
   "id": "7126283f",
   "metadata": {},
   "source": [
    "### 0.0. Jupyter Notebook\n",
    "One of many ways to write/run Python code. This is a **Markdown** cell.\n",
    "\n",
    "Double click this cell, and you will be able to edit the cell's text.\n",
    "\n",
    "Add your name, or your favorite word, or anything here:____________\n",
    "\n",
    "To exit editing mode make sure you have clicked anywhere in the cell and either:\n",
    "\n",
    "1. In the top menu click Run -> Run Selected Cells (or Cell -> Run Cells depending on where you're running this file)\n",
    "2. Click the Run/Play button (sideways triangle) in the banner.\n",
    "3. Press Ctrl + Enter"
   ]
  },
  {
   "cell_type": "markdown",
   "id": "3c36ac8d",
   "metadata": {},
   "source": [
    "You can also add formulas:\n",
    "\n",
    "$$\n",
    "e^{i\\pi} + 1 = 0\n",
    "$$"
   ]
  },
  {
   "cell_type": "markdown",
   "id": "e7773fec",
   "metadata": {},
   "source": [
    "And images:\n",
    "\n",
    "![](./input/image.png)"
   ]
  },
  {
   "cell_type": "markdown",
   "id": "f0548cf7",
   "metadata": {},
   "source": [
    "### 0.1. Variables\n",
    "The next cell is a **Code** cell. It actually executes Python code. Any variables created get stored in a global notebook memory space that all other cells can access."
   ]
  },
  {
   "cell_type": "code",
   "execution_count": 1,
   "id": "66c01464",
   "metadata": {},
   "outputs": [
    {
     "name": "stdout",
     "output_type": "stream",
     "text": [
      "10.5\n",
      "hello\n"
     ]
    }
   ],
   "source": [
    "a = 10.5\n",
    "print(a)\n",
    "\n",
    "b = \"hello\"\n",
    "print(b)"
   ]
  },
  {
   "cell_type": "code",
   "execution_count": 2,
   "id": "cdfbdbbe",
   "metadata": {},
   "outputs": [
    {
     "name": "stdout",
     "output_type": "stream",
     "text": [
      "10.5 hello\n",
      "10.5 hello\n"
     ]
    }
   ],
   "source": [
    "print(a, b)"
   ]
  },
  {
   "cell_type": "markdown",
   "id": "c1fd907f",
   "metadata": {},
   "source": [
    "Python is **dynamically typed**, which means you don't have to declare the type of a variable like `double a = 10.5` or `string b = \"hello\"`"
   ]
  },
  {
   "cell_type": "markdown",
   "id": "44af9211",
   "metadata": {},
   "source": [
    "**Lists** are a built-in data type similar to arrays in other languages."
   ]
  },
  {
   "cell_type": "code",
   "execution_count": 3,
   "id": "4855a975",
   "metadata": {},
   "outputs": [],
   "source": [
    "c = [10, 20, 1.1, \"hello\"]\n",
    "print(c)\n",
    "print(c[1])"
   ]
  },
  {
   "cell_type": "markdown",
   "id": "3d1d07fb",
   "metadata": {},
   "source": [
    "### 0.2. Loops\n",
    "A Python for loop iterates through an array-like structure. Python uses **indentation level** to denote where the loop code starts/stops."
   ]
  },
  {
   "cell_type": "code",
   "execution_count": 4,
   "id": "66c81447",
   "metadata": {},
   "outputs": [],
   "source": [
    "for x in c:\n",
    "    print(\"element:\", x)"
   ]
  },
  {
   "cell_type": "markdown",
   "id": "9b22bc22",
   "metadata": {},
   "source": [
    "If you want to use an index like you would in other languages, you can."
   ]
  },
  {
   "cell_type": "code",
   "execution_count": 5,
   "id": "a9e4d5a2",
   "metadata": {},
   "outputs": [],
   "source": [
    "for i in range(len(c)):\n",
    "    print(\"element\", i, \":\", c[i])"
   ]
  },
  {
   "cell_type": "markdown",
   "id": "f10cf863",
   "metadata": {},
   "source": [
    "### 0.3. Conditionals\n",
    "Conditional blocks use `if-elif-else` construct like most other languages. The blocks use **indentation level**"
   ]
  },
  {
   "cell_type": "code",
   "execution_count": 6,
   "id": "998250fd",
   "metadata": {},
   "outputs": [],
   "source": [
    "d = 10\n",
    "\n",
    "if d < 0:\n",
    "    print(\"Negative\")\n",
    "elif d > 0:\n",
    "    print(\"Positive\")\n",
    "else:\n",
    "    print(\"Zero\")"
   ]
  },
  {
   "cell_type": "markdown",
   "id": "f01becdf",
   "metadata": {},
   "source": [
    "### 0.4. Functions\n",
    "Functions also use **indentation level**"
   ]
  },
  {
   "cell_type": "code",
   "execution_count": 7,
   "id": "f5d74a87",
   "metadata": {},
   "outputs": [],
   "source": [
    "def test_function(input1, input2):\n",
    "    mult = input1 * input2\n",
    "    return mult"
   ]
  },
  {
   "cell_type": "code",
   "execution_count": 8,
   "id": "ad8e535b",
   "metadata": {},
   "outputs": [],
   "source": [
    "a = test_function(3, 4)\n",
    "print(a)"
   ]
  },
  {
   "cell_type": "markdown",
   "id": "64f3f970",
   "metadata": {},
   "source": [
    "Functions can:\n",
    "- Set default values for arguments\n",
    "- Accept inputs in order or by name\n",
    "- Return multiple outputs"
   ]
  },
  {
   "cell_type": "code",
   "execution_count": 9,
   "id": "a01794a6",
   "metadata": {},
   "outputs": [],
   "source": [
    "def test_function2(input1=5, input2=6):\n",
    "    mult = input1 * input2\n",
    "    sub = input1 - input2\n",
    "    return mult, sub"
   ]
  },
  {
   "cell_type": "code",
   "execution_count": 10,
   "id": "eb721dbf",
   "metadata": {},
   "outputs": [],
   "source": [
    "a, b = test_function2()\n",
    "print(a, \"///\", b)\n",
    "\n",
    "a, b = test_function2(10)\n",
    "print(a, \"///\", b)\n",
    "\n",
    "a, b = test_function2(input2=20, input1=2)\n",
    "print(a, \"///\", b)"
   ]
  },
  {
   "cell_type": "markdown",
   "id": "bddf70ef",
   "metadata": {},
   "source": [
    "## 1. Closed Form Trajectory"
   ]
  },
  {
   "cell_type": "markdown",
   "id": "5c7263c8",
   "metadata": {},
   "source": [
    "### 1.1. Code Import\n",
    "First, we need to **import** some external code so we don't have to write it all here.\n",
    "\n",
    "The `numpy` library is the standard Python library for math functions and matrices. It is installed within the Anaconda environment you have, which is why you can import it here.\n",
    "\n",
    "Access `numpy` functions using `np.{{function}}`."
   ]
  },
  {
   "cell_type": "code",
   "execution_count": 11,
   "id": "3b8e9d88",
   "metadata": {},
   "outputs": [],
   "source": [
    "import numpy as np"
   ]
  },
  {
   "cell_type": "code",
   "execution_count": 12,
   "id": "e35058e8",
   "metadata": {},
   "outputs": [],
   "source": [
    "a = np.array([3,4,5])\n",
    "print(a)\n",
    "print(a.shape)\n",
    "print(np.linalg.norm(a))"
   ]
  },
  {
   "cell_type": "markdown",
   "id": "b2150385",
   "metadata": {},
   "source": [
    "The `answers` and `constants` modules were written for this exercise, so that all the code doesn't have to be in this notebook.\n",
    "\n",
    "Find the module in this directory under `utils/answers.py`."
   ]
  },
  {
   "cell_type": "code",
   "execution_count": 13,
   "id": "b18a5827",
   "metadata": {},
   "outputs": [],
   "source": [
    "from utils import answers as ans\n",
    "from utils import constants as C"
   ]
  },
  {
   "cell_type": "code",
   "execution_count": 14,
   "id": "c8cc104e",
   "metadata": {},
   "outputs": [],
   "source": [
    "print(C.G0, C.RE)"
   ]
  },
  {
   "cell_type": "markdown",
   "id": "7410b71f",
   "metadata": {},
   "source": [
    "### 1.2. Compute Trajectory\n",
    "Convert the trajectory equations into Python functions"
   ]
  },
  {
   "cell_type": "code",
   "execution_count": 15,
   "id": "54e98787",
   "metadata": {},
   "outputs": [],
   "source": [
    "def v0_components(v0, theta):\n",
    "    vx0, vy0 = ans.v0_components_1(v0, theta)\n",
    "    \n",
    "    # optional: comment line above, write your code here\n",
    "    #########\n",
    "    return vx0, vy0\n",
    "\n",
    "\n",
    "def position_x(t, vx0, x0):\n",
    "    x = ans.position_x_1(t, vx0, x0)\n",
    "    \n",
    "    # optional: comment line above, write your code here\n",
    "    #########\n",
    "    return x\n",
    "    \n",
    "\n",
    "def position_y(t, vy0, y0):\n",
    "    y = ans.position_y_1(t, vy0, y0)\n",
    "    \n",
    "    # optional: comment line above, write your code here\n",
    "    #########\n",
    "    return y"
   ]
  },
  {
   "cell_type": "code",
   "execution_count": 16,
   "id": "2b82bf9e",
   "metadata": {},
   "outputs": [],
   "source": [
    "x0 = 0\n",
    "y0 = 0\n",
    "v0 = 20\n",
    "theta = 45 * C.DEG2RAD\n",
    "\n",
    "vx0, vy0 = v0_components(v0, theta)\n",
    "\n",
    "tmax = ans.t_star_1(vy0)\n",
    "numsteps = 100\n",
    "t = np.linspace(0, tmax, numsteps)\n",
    "\n",
    "x = position_x(t, vx0, x0)\n",
    "y = position_y(t, vy0, y0)"
   ]
  },
  {
   "cell_type": "markdown",
   "id": "d05439ed",
   "metadata": {},
   "source": [
    "Note that for `position` functions take in an array and return an array. We **could** use a `for` loop to step through each time value, but `numpy` does this more efficiently."
   ]
  },
  {
   "cell_type": "code",
   "execution_count": 17,
   "id": "ad9a6cbe",
   "metadata": {},
   "outputs": [],
   "source": [
    "print(y)"
   ]
  },
  {
   "cell_type": "markdown",
   "id": "00893b6b",
   "metadata": {},
   "source": [
    "Go back and replace `tmax = 5` with `tmax = ans.t_star_1_1(vy0)`.\n",
    "\n",
    "**Optional exercise**: write a new function `def t_star(vy0):...` that computes the time of flight."
   ]
  },
  {
   "cell_type": "markdown",
   "id": "4858641d",
   "metadata": {},
   "source": [
    "### 1.3. Plot Trajectory"
   ]
  },
  {
   "cell_type": "markdown",
   "id": "fa84aeed",
   "metadata": {},
   "source": [
    "Quick primer on plotting with `matplotlib`"
   ]
  },
  {
   "cell_type": "code",
   "execution_count": 18,
   "id": "9e16041e",
   "metadata": {},
   "outputs": [],
   "source": [
    "import matplotlib.pyplot as plt\n",
    "\n",
    "fig = plt.figure()\n",
    "ax = fig.add_subplot(111)\n",
    "ax.plot(t, np.cos(3 * t))\n",
    "plt.show()"
   ]
  },
  {
   "cell_type": "markdown",
   "id": "0279d7a5",
   "metadata": {},
   "source": [
    "Run the cell below and then re-run plotting to make things interactive."
   ]
  },
  {
   "cell_type": "code",
   "execution_count": null,
   "id": "0e9f0fea",
   "metadata": {},
   "outputs": [],
   "source": [
    "%matplotlib notebook"
   ]
  },
  {
   "cell_type": "markdown",
   "id": "e370915d",
   "metadata": {},
   "source": [
    "The `answers` module contains functions to build plotting skeletons."
   ]
  },
  {
   "cell_type": "code",
   "execution_count": null,
   "id": "8c5273e7",
   "metadata": {},
   "outputs": [],
   "source": [
    "ax = ans.make_figure_flat()\n",
    "ax.plot(x, y)\n",
    "ax.plot(x[0], y[0], \"go\", label=\"Start\")\n",
    "ax.plot(x[-1], y[-1], \"ro\", label=\"End\")\n",
    "ax.legend()\n",
    "plt.show()"
   ]
  },
  {
   "cell_type": "markdown",
   "id": "aabc96de",
   "metadata": {},
   "source": [
    "## 2. Numerical Trajectory"
   ]
  },
  {
   "cell_type": "markdown",
   "id": "abd5b054",
   "metadata": {},
   "source": [
    "Introducing a new external library: `scipy`, which contains a ton of numerical methods and \"scientific computing\" functions that are extremely useful."
   ]
  },
  {
   "cell_type": "code",
   "execution_count": 20,
   "id": "70ff9625",
   "metadata": {},
   "outputs": [],
   "source": [
    "from scipy import integrate"
   ]
  },
  {
   "cell_type": "markdown",
   "id": "d4fd980e",
   "metadata": {},
   "source": [
    "### 2.1. Compute Trajectory\n",
    "Put equations in the form:\n",
    "$$\n",
    "\\dot{s} = f(s,t)\n",
    "$$\n",
    "\n",
    "$$\n",
    "s = \\begin{bmatrix}\n",
    "        x \\\\\n",
    "        y \\\\\n",
    "        v_x \\\\\n",
    "        v_y\n",
    "      \\end{bmatrix}\n",
    "\\qquad\n",
    "\\dot{s} = \\begin{bmatrix}\n",
    "        \\dot{x} \\\\\n",
    "        \\dot{y} \\\\\n",
    "        \\dot{v_x} \\\\\n",
    "        \\dot{v_y}\n",
    "      \\end{bmatrix}\n",
    "$$"
   ]
  },
  {
   "cell_type": "code",
   "execution_count": 21,
   "id": "bb83a809",
   "metadata": {},
   "outputs": [],
   "source": [
    "def eom_flat(t, s):\n",
    "    sdot = ans.sdot_1(s)\n",
    "    \n",
    "    # optional: comment line above, write your code here\n",
    "    # sdot = np.zeros(shape=(4))\n",
    "    # sdot[0] = \n",
    "    # sdot[1] = \n",
    "    # sdot[2] = \n",
    "    # sdot[3] = \n",
    "    #########\n",
    "    \n",
    "    return sdot"
   ]
  },
  {
   "cell_type": "code",
   "execution_count": 22,
   "id": "0ae6634f",
   "metadata": {},
   "outputs": [],
   "source": [
    "x0 = 0\n",
    "y0 = 0\n",
    "v0 = 20\n",
    "theta = 45 * C.DEG2RAD\n",
    "\n",
    "vx0, vy0 = v0_components(v0, theta)\n",
    "\n",
    "tmax = ans.t_star_1(vy0)\n",
    "\n",
    "s0 = np.array([x0, y0, vx0, vy0])\n",
    "solution = integrate.solve_ivp(eom_flat, (0, tmax), s0, max_step=0.1)\n",
    "\n",
    "s = solution.y\n",
    "x = s[0,:]\n",
    "y = s[1,:]"
   ]
  },
  {
   "cell_type": "markdown",
   "id": "ad941f6b",
   "metadata": {},
   "source": [
    "### 2.2. Plot Trajectory"
   ]
  },
  {
   "cell_type": "code",
   "execution_count": null,
   "id": "3ecb6324",
   "metadata": {},
   "outputs": [],
   "source": [
    "ax = ans.make_figure_flat()\n",
    "ax.plot(x, y)\n",
    "ax.plot(x[0], y[0], \"go\", label=\"Start\")\n",
    "ax.plot(x[-1], y[-1], \"ro\", label=\"End\")\n",
    "ax.legend()\n",
    "plt.show()"
   ]
  },
  {
   "cell_type": "markdown",
   "id": "b940cfd9",
   "metadata": {},
   "source": [
    "In `integrate.solve_ivp` set `max_step=0.1` and then re-run."
   ]
  },
  {
   "cell_type": "markdown",
   "id": "00e25f93",
   "metadata": {},
   "source": [
    "### 2.3. Animate Trajectory\n",
    "Really similar to plotting, but more effort and many gotchas"
   ]
  },
  {
   "cell_type": "code",
   "execution_count": null,
   "id": "b6c0a416",
   "metadata": {},
   "outputs": [],
   "source": [
    "from matplotlib import animation"
   ]
  },
  {
   "cell_type": "code",
   "execution_count": null,
   "id": "0dc2388f",
   "metadata": {},
   "outputs": [],
   "source": [
    "ax = ans.make_figure_flat(50, 20)\n",
    "fig = ax.figure\n",
    "ax.plot(x, y, label=\"Trajectory\")\n",
    "pt, = ax.plot(x[0], y[0], \"go\", label=\"Ball\")\n",
    "\n",
    "def update(i):\n",
    "    pt.set_data(x[i], y[i])\n",
    "    return pt\n",
    "\n",
    "ani = animation.FuncAnimation(fig, update, frames=x.shape[0], interval=200, repeat=False)\n",
    "plt.show()"
   ]
  },
  {
   "cell_type": "markdown",
   "id": "8d950bc6",
   "metadata": {},
   "source": [
    "## 3. Targeting Method 1: Closed Form\n",
    "Elegant, but ultimately useless.\n",
    "\n",
    "Let's use $d$ to denote the range where the projectile impacts.\n",
    "\n",
    "$$\n",
    "d = \\frac{v_0^2\\sin{2\\theta}}{g}\n",
    "$$\n",
    "\n",
    "**Optional exercise**: derive the formula for $d$ above"
   ]
  },
  {
   "cell_type": "markdown",
   "id": "86ada334",
   "metadata": {},
   "source": [
    "If we have a target range and fixed throwing velocity, we can calculate $\\theta$:\n",
    "\n",
    "$$\n",
    "\\theta = \\frac{1}{2}\\sin^{-1}{\\frac{dg}{v_0^2}}\n",
    "$$"
   ]
  },
  {
   "cell_type": "code",
   "execution_count": 29,
   "id": "b9f60fc2",
   "metadata": {},
   "outputs": [],
   "source": [
    "def target_theta_method1(d, v0):\n",
    "    # returns in radians\n",
    "    return 0.5 * np.arcsin(d * C.G0 / (v0 ** 2))"
   ]
  },
  {
   "cell_type": "code",
   "execution_count": 30,
   "id": "dfa72fa4",
   "metadata": {},
   "outputs": [],
   "source": [
    "x0 = 0\n",
    "y0 = 0\n",
    "v0 = 20\n",
    "d = 30\n",
    "theta = target_theta_method1(d, v0)\n",
    "# theta = C.HALFPI - theta\n",
    "\n",
    "vx0, vy0 = v0_components(v0, theta)\n",
    "\n",
    "tmax = ans.t_star_1(vy0)\n",
    "\n",
    "s0 = np.array([x0, y0, vx0, vy0])\n",
    "solution = integrate.solve_ivp(eom_flat, (0, tmax), s0, max_step=0.1)\n",
    "\n",
    "s = solution.y\n",
    "x = s[0,:]\n",
    "y = s[1,:]"
   ]
  },
  {
   "cell_type": "code",
   "execution_count": null,
   "id": "cf6c341d",
   "metadata": {},
   "outputs": [],
   "source": [
    "ax = ans.make_figure_flat()\n",
    "ax.plot(x, y)\n",
    "ax.plot(x[0], y[0], \"go\", label=\"Start\")\n",
    "ax.plot(x[-1], y[-1], \"ro\", label=\"End\")\n",
    "ax.legend()\n",
    "plt.show()"
   ]
  },
  {
   "cell_type": "markdown",
   "id": "0a3988ae",
   "metadata": {},
   "source": [
    "## 4. Targeting Method 2: Newton's Method\n",
    "Method 1 is ideal, but there is rarely a closed form solution for the trajectory value we're trying to solve for.\n",
    "\n",
    "Method 2 is overkill for now, but useful later."
   ]
  },
  {
   "cell_type": "code",
   "execution_count": 32,
   "id": "364dbb75",
   "metadata": {},
   "outputs": [],
   "source": [
    "def calc_e(theta, v0, dstar):\n",
    "    e = ans.calc_e_1(theta, v0, dstar)\n",
    "    \n",
    "    # optional: comment line above, write your code here\n",
    "    # e = \n",
    "    #########\n",
    "    return e\n",
    "\n",
    "\n",
    "def calc_eprime(theta, v0, dstar):\n",
    "    eprime = ans.calc_eprime_1(theta, v0, dstar)\n",
    "    \n",
    "    # optional: comment line above, write your code here\n",
    "    # eprime = \n",
    "    #########\n",
    "    return eprime\n",
    "\n",
    "\n",
    "def calc_newton_iter(theta, v0, dstar):\n",
    "    theta_next = ans.calc_newton_iter_1(theta, v0, dstar)\n",
    "    \n",
    "    # optional: comment line above, write your code here\n",
    "    # theta_next = \n",
    "    #########\n",
    "    return theta_next"
   ]
  },
  {
   "cell_type": "markdown",
   "id": "ce650b9f",
   "metadata": {},
   "source": [
    "Run the cell below once with an initial guess"
   ]
  },
  {
   "cell_type": "code",
   "execution_count": null,
   "id": "b5fc5b8c",
   "metadata": {},
   "outputs": [],
   "source": [
    "x0 = 0\n",
    "y0 = 0\n",
    "v0 = 20\n",
    "theta = 80 * C.DEG2RAD\n",
    "dstar = 40\n",
    "\n",
    "vx0, vy0 = v0_components(v0, theta)\n",
    "\n",
    "tmax = ans.t_star_1(vy0)\n",
    "\n",
    "s0 = np.array([x0, y0, vx0, vy0])\n",
    "solution = integrate.solve_ivp(eom_flat, (0, tmax), s0, max_step=0.1)\n",
    "\n",
    "s = solution.y\n",
    "x = s[0,:]\n",
    "y = s[1,:]\n",
    "\n",
    "ax = ans.make_figure_flat(50, 20)\n",
    "ax.plot(x, y, label=\"Trajectory\")\n",
    "ax.plot(x[0], y[0], \"go\", label=\"Start\")\n",
    "ax.plot(dstar, 0, \"ms\", label=\"Target\")\n",
    "ax.legend()\n",
    "plt.show()\n",
    "\n",
    "i = 0"
   ]
  },
  {
   "cell_type": "markdown",
   "id": "0598a415",
   "metadata": {},
   "source": [
    "Run the following cell to iterate"
   ]
  },
  {
   "cell_type": "code",
   "execution_count": null,
   "id": "e6a9dfce",
   "metadata": {},
   "outputs": [],
   "source": [
    "print(i, \"theta:\", theta * C.RAD2DEG, \"; range:\", calc_e(theta, v0, 0))\n",
    "\n",
    "theta = calc_newton_iter(theta, v0, dstar)\n",
    "i += 1\n",
    "print(i, \"theta:\", theta * C.RAD2DEG, \"; range:\", calc_e(theta, v0, 0))\n",
    "\n",
    "vx0, vy0 = v0_components(v0, theta)\n",
    "tmax = ans.t_star_1(vy0)\n",
    "s0 = np.array([x0, y0, vx0, vy0])\n",
    "sol = integrate.solve_ivp(eom_flat, (0, tmax), s0, max_step=0.1)\n",
    "s = sol.y\n",
    "x = s[0,:]\n",
    "y = s[1,:]\n",
    "\n",
    "ax.plot(x, y)\n",
    "plt.show()"
   ]
  }
 ],
 "metadata": {
  "kernelspec": {
   "display_name": "Python 3 (ipykernel)",
   "language": "python",
   "name": "python3"
  },
  "language_info": {
   "codemirror_mode": {
    "name": "ipython",
    "version": 3
   },
   "file_extension": ".py",
   "mimetype": "text/x-python",
   "name": "python",
   "nbconvert_exporter": "python",
   "pygments_lexer": "ipython3",
   "version": "3.8.14"
  }
 },
 "nbformat": 4,
 "nbformat_minor": 5
}
